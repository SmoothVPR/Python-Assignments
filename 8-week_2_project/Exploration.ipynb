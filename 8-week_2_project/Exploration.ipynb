{
 "cells": [
  {
   "cell_type": "code",
   "execution_count": 30,
   "id": "a4054e5c-ac5e-4001-9f16-f5f2154bb100",
   "metadata": {},
   "outputs": [],
   "source": [
    "import pandas as pd\n",
    "import numpy as np\n",
    "\n",
    "import pathlib\n",
    "import os\n",
    "\n",
    "resource_dir = \"res/\"\n",
    "files = [x for x in os.listdir(resource_dir) if \".csv\" in x]\n",
    "files.sort()\n",
    "\n",
    "current_file  = resource_dir + files[-1]\n",
    "previous_file = resource_dir + files[-2]\n",
    "\n",
    "df_curr = pd.read_csv(current_file)\n",
    "df_prev = pd.read_csv(previous_file)\n",
    "\n",
    "# Compare lines\n",
    "bComparision = abs(df_curr.shape[0] - df_prev.shape[0]) < 500"
   ]
  },
  {
   "cell_type": "code",
   "execution_count": 31,
   "id": "dcff64b9-9df8-42f7-8fda-f6b6cb902204",
   "metadata": {},
   "outputs": [
    {
     "data": {
      "text/plain": [
       "True"
      ]
     },
     "execution_count": 31,
     "metadata": {},
     "output_type": "execute_result"
    }
   ],
   "source": [
    "bComparision"
   ]
  },
  {
   "cell_type": "markdown",
   "id": "919174b9-6de8-4a66-9266-6776f96d8088",
   "metadata": {},
   "source": [
    "### Step 6\n",
    "6) File if processed once should be stored in the reference file : NYL.lst .If incase we  \n",
    "are reprocessing the same file once again should throw an exception , saying already processed."
   ]
  },
  {
   "cell_type": "code",
   "execution_count": 29,
   "id": "51f73b84-6480-4103-876b-6b75045b650b",
   "metadata": {},
   "outputs": [],
   "source": [
    "# make a list file and include\n",
    "# maybe throw this shit somewhere else\n",
    "\n",
    "NYL = \"NYL.lst\"\n",
    "\n",
    "# if it doesnt exist, create it\n",
    "if not pathlib.Path(NYL).is_file():\n",
    "    with open(NYL, 'w') as f:\n",
    "        f.write(current_file)\n",
    "\n",
    "# read the NYL.lst file"
   ]
  },
  {
   "cell_type": "markdown",
   "id": "f9955274-3d58-4e3b-b427-4b9640569329",
   "metadata": {},
   "source": [
    "### Step 7\n",
    "7. Now before reading the file capture the name of the file in NYL.lst file so the filename is stored there  \n",
    "for future reference."
   ]
  },
  {
   "cell_type": "code",
   "execution_count": null,
   "id": "acf1ff9c-ffcd-41d2-91cd-2ca972666832",
   "metadata": {},
   "outputs": [],
   "source": []
  }
 ],
 "metadata": {
  "kernelspec": {
   "display_name": "Python 3",
   "language": "python",
   "name": "python3"
  },
  "language_info": {
   "codemirror_mode": {
    "name": "ipython",
    "version": 3
   },
   "file_extension": ".py",
   "mimetype": "text/x-python",
   "name": "python",
   "nbconvert_exporter": "python",
   "pygments_lexer": "ipython3",
   "version": "3.8.8"
  }
 },
 "nbformat": 4,
 "nbformat_minor": 5
}
