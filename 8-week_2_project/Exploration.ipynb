{
 "cells": [
  {
   "cell_type": "markdown",
   "id": "41a92dcf-a682-4ca6-89a4-d238ae336344",
   "metadata": {},
   "source": [
    "## Project 2\n",
    "- [x] Use python libraries logging,csv (or) openpyxl,phonenumbers,numpy,pandas,datetime,sys\n",
    "\n",
    "- [x] So we have FieldAgent files for NewYork Life Insurances.\n",
    "\n",
    "- [x] Basically you need to sort the files in descending order of dates and obtain the greatest dated file which is in the filenaming convention 20210219 here in the collection provided."
   ]
  },
  {
   "cell_type": "code",
   "execution_count": 2,
   "id": "a4054e5c-ac5e-4001-9f16-f5f2154bb100",
   "metadata": {},
   "outputs": [],
   "source": [
    "import pandas as pd\n",
    "import numpy as np\n",
    "\n",
    "import pathlib\n",
    "import os\n",
    "\n",
    "resource_dir = \"res/\"\n",
    "\n",
    "# Easy sort since the files are in YYYYMMDD format\n",
    "files = [x for x in os.listdir(resource_dir) if \".csv\" in x]\n",
    "files.sort()\n",
    "\n",
    "# Last and second to last files are selected\n",
    "current_file  = resource_dir + files[-1]\n",
    "previous_file = resource_dir + files[-2]\n",
    "\n",
    "# Dataframes are created to correspond to the files\n",
    "df_curr = pd.read_csv(current_file)\n",
    "df_prev = pd.read_csv(previous_file)\n",
    "\n",
    "# Compare difference\n",
    "assert abs(df_curr.shape[0] - df_prev.shape[0]) < 500"
   ]
  },
  {
   "cell_type": "markdown",
   "id": "919174b9-6de8-4a66-9266-6776f96d8088",
   "metadata": {},
   "source": [
    "### Step 6\n",
    "File if processed once should be stored in the reference file : NYL.lst. If  \n",
    "in case we are reprocessing the same file once again should throw an  \n",
    "exception , saying already processed."
   ]
  },
  {
   "cell_type": "code",
   "execution_count": 29,
   "id": "51f73b84-6480-4103-876b-6b75045b650b",
   "metadata": {},
   "outputs": [],
   "source": [
    "# make a list file and include\n",
    "NYL = \"NYL.lst\"\n",
    "\n",
    "# if it doesnt exist, create it\n",
    "if not pathlib.Path(NYL).is_file():\n",
    "    with open(NYL, 'w') as f:\n",
    "        f.write(current_file)\n",
    "\n",
    "# read the NYL.lst file"
   ]
  },
  {
   "cell_type": "markdown",
   "id": "f9955274-3d58-4e3b-b427-4b9640569329",
   "metadata": {},
   "source": [
    "### Step 7\n",
    "7. Now before reading the file capture the name of the file in NYL.lst file so the filename is stored there  \n",
    "for future reference."
   ]
  },
  {
   "cell_type": "markdown",
   "id": "405a94aa-bce6-4be2-8c7b-298367d62400",
   "metadata": {},
   "source": [
    "### Step 8\n",
    "- [x] Replace the headers in the file c1 with c2 and c3 with c4 , just incase the file header is inconsistent:\n",
    "      c1='Agent Writing Contract Start Date (Carrier appointment start date)'\n",
    "      c2='Agent Writing Contract Start Date'\n",
    "      c3='Agent Writing Contract Status (actually active and cancelled\\'s should come in two different files)'\n",
    "      c4='Agent Writing Contract Status'\n",
    "- [x] The phonenumbers in the file should be US valid phone numbers incase they not Valid capture in the log file.\n",
    "      (manual function?)\n",
    "\n",
    "- [x] Check if the State is a Valid US State (manual function?)\n",
    "\n",
    "- [x] Check is the Agent email is a valid email id (use email package)"
   ]
  },
  {
   "cell_type": "markdown",
   "id": "b8ec9e96-6ce9-4c85-b7bd-e3d8cb329922",
   "metadata": {},
   "source": [
    "### Data Exploration time"
   ]
  },
  {
   "cell_type": "raw",
   "id": "fc8a0950-d486-44d9-97f3-0beede97c511",
   "metadata": {},
   "source": [
    "# find out the different names between the two columns\n",
    "\n",
    "# View column names\n",
    "print(df_curr.columns)\n",
    "\n",
    "set(df_curr.columns.to_numpy()) - set(df_prev.columns.to_numpy())"
   ]
  },
  {
   "cell_type": "code",
   "execution_count": 14,
   "id": "20a8df17-fe82-477b-978f-c9ca3252720f",
   "metadata": {},
   "outputs": [],
   "source": [
    "# Lets just make a function that does it anyway\n",
    "\n",
    "target_column_2 = 'Agent Writing Contract Start Date (Carrier appointment start date)'\n",
    "target_column_2 = 'Agent Writing Contract Status (active)'\n",
    "target_column_3 = 'Agent Writing Contract Status (cancelled)'\n",
    "\n",
    "def clean_up_headers(df):\n",
    "    if target_column_1 in df.columns:\n",
    "        df[target_column_1].rename('Agent Writing Contract Start Date')\n",
    "        \n",
    "    if target_column_2 in df.columns:\n",
    "        df[target_column_2].rename('Agent Writing Contract Status')\n",
    "        \n",
    "    if target_column_3 in df.columns:\n",
    "        df[target_column_3].rename('Agent Writing Contract Status')\n"
   ]
  },
  {
   "cell_type": "code",
   "execution_count": 34,
   "id": "b026d4d6-e1cc-4d31-8974-1984a8558d8d",
   "metadata": {},
   "outputs": [
    {
     "name": "stdout",
     "output_type": "stream",
     "text": [
      "True\n",
      "True\n",
      "False\n",
      "False\n",
      "False\n",
      "False\n",
      "False\n"
     ]
    }
   ],
   "source": [
    "import re\n",
    "\n",
    "# use regex maybe?\n",
    "def is_valid_phonenumber(string: str) -> bool:\n",
    "    # 3 numbers followed by a '.', '-', or ' '\n",
    "    regex = r\"^([0-9]{3}[\\.\\- ]){2}[0-9]{4}$\"\n",
    "    match = re.match(regex, string)\n",
    "    \n",
    "    if match:\n",
    "        return True\n",
    "    \n",
    "    return False\n",
    "\n",
    "# Test it out\n",
    "print(is_valid_phonenumber(\"888.111.5555\")) # True\n",
    "print(is_valid_phonenumber(\"888-111-5555\")) # True\n",
    "print(is_valid_phonenumber(\"832.555.555\"))  # False (only 3 of 4 last digits)\n",
    "print(is_valid_phonenumber(\"888.111-51111\")) # False (5 of 4 last digits)\n",
    "print(is_valid_phonenumber(\"8 8.111-5111\")) # False (wrong number of a lot of shit)\n",
    "print(is_valid_phonenumber(\"888.111-5 2 3 4\")) # False (wrong format)\n",
    "print(is_valid_phonenumber(\"888-1 1-5 111\")) # False (wrong format)\n"
   ]
  },
  {
   "cell_type": "markdown",
   "id": "41b28b03-7ee3-4efe-8951-cdb3b8474c18",
   "metadata": {},
   "source": [
    "- [x] Check if the State is a Valid US State (manual function?)"
   ]
  },
  {
   "cell_type": "code",
   "execution_count": 35,
   "id": "c36051e7-8bb9-47f7-a41e-01e127f64f72",
   "metadata": {},
   "outputs": [
    {
     "name": "stdout",
     "output_type": "stream",
     "text": [
      "True\n",
      "True\n",
      "False\n",
      "True\n",
      "False\n"
     ]
    }
   ],
   "source": [
    "# Check to see if state is valid\n",
    "\n",
    "# works for me\n",
    "# lets make sure there are no abbreviations\n",
    "full_state_names = [\"Alaska\", \"Alabama\", \"Arkansas\", \"American Samoa\", \"Arizona\", \"California\", \"Colorado\", \"Connecticut\", \"District of Columbia\", \"Delaware\", \"Florida\", \"Georgia\", \"Guam\", \"Hawaii\", \"Iowa\", \"Idaho\", \"Illinois\", \"Indiana\", \"Kansas\", \"Kentucky\", \"Louisiana\", \"Massachusetts\", \"Maryland\", \"Maine\", \"Michigan\", \"Minnesota\", \"Missouri\", \"Mississippi\", \"Montana\", \"North Carolina\", \"North Dakota\", \"Nebraska\", \"New Hampshire\", \"New Jersey\", \"New Mexico\", \"Nevada\", \"New York\", \"Ohio\", \"Oklahoma\", \"Oregon\", \"Pennsylvania\", \"Puerto Rico\", \"Rhode Island\", \"South Carolina \", \"South Dakota\", \"Tennessee\", \"Texas\", \"Utah\", \"Virginia\", \"Virgin Islands\", \"Vermont\", \"Washington\", \"Wisconsin\", \"West Virginia\", \"Wyoming\"]\n",
    "abbr_state_names = [\"AL\", \"AK\", \"AZ\", \"AR\", \"CA\", \"CO\", \"CT\", \"DC\", \"DE\", \"FL\", \"GA\",  \"HI\", \"ID\", \"IL\", \"IN\", \"IA\", \"KS\", \"KY\", \"LA\", \"ME\", \"MD\",  \"MA\", \"MI\", \"MN\", \"MS\", \"MO\", \"MT\", \"NE\", \"NV\", \"NH\", \"NJ\",  \"NM\", \"NY\", \"NC\", \"ND\", \"OH\", \"OK\", \"OR\", \"PA\", \"RI\", \"SC\",  \"SD\", \"TN\", \"TX\", \"UT\", \"VT\", \"VA\", \"WA\", \"WV\", \"WI\", \"WY\"] \n",
    "\n",
    "def is_valid_state(string: str) -> bool:\n",
    "    return string in full_state_names or string in abbr_state_names\n",
    "\n",
    "# tests\n",
    "print(is_valid_state(\"TX\")) # True\n",
    "print(is_valid_state(\"CA\")) # True\n",
    "print(is_valid_state(\"CX\")) # False\n",
    "print(is_valid_state(\"WA\")) # True\n",
    "print(is_valid_state(\"FF\")) # False\n",
    "\n",
    "# works"
   ]
  },
  {
   "cell_type": "markdown",
   "id": "ddf02437-1914-42fe-bc2a-d8a83c24b23e",
   "metadata": {},
   "source": [
    "- [x] Check is the Agent email is a valid email id (use email package)"
   ]
  },
  {
   "cell_type": "code",
   "execution_count": 36,
   "id": "1b122fc1-d0dd-4f9f-9bde-6be3ececb5dd",
   "metadata": {},
   "outputs": [
    {
     "name": "stdout",
     "output_type": "stream",
     "text": [
      "True\n",
      "True\n",
      "True\n",
      "False\n",
      "True\n",
      "True\n",
      "False\n",
      "False\n",
      "True\n"
     ]
    }
   ],
   "source": [
    "# Check to see if email is valid\n",
    "def is_valid_email(string:str) -> bool:\n",
    "    regex = r'\\b[A-Za-z0-9._%+-]+@[A-Za-z0-9.-]+\\.[A-Z|a-z]{2,}\\b'\n",
    "    match = re.match(regex, string)\n",
    "    \n",
    "    if match:\n",
    "        return True\n",
    "    \n",
    "    return False\n",
    "\n",
    "# tests \n",
    "print(is_valid_email(\"test.email@gmail.com\")) # True\n",
    "print(is_valid_email(\"test_email@gmail.com\")) # True\n",
    "print(is_valid_email(\"testemail@gmail.com\")) # True\n",
    "print(is_valid_email(\"test.email@gmailcom\")) # False (no domain)\n",
    "print(is_valid_email(\"test.email@gmail.cc\")) # True\n",
    "print(is_valid_email(\"test.email@gmail.org\")) # True\n",
    "print(is_valid_email(\"test!email@gmail.co.uk\")) # False\n",
    "print(is_valid_email(\"emailgmail.co.uk\")) # False\n",
    "print(is_valid_email(\"test.emailgmail@.co.uk\")) # False"
   ]
  },
  {
   "cell_type": "code",
   "execution_count": 15,
   "id": "ca492516-cbc7-4137-98a3-8ebb118a18c9",
   "metadata": {},
   "outputs": [],
   "source": [
    "clean_up_headers(df_curr)"
   ]
  },
  {
   "cell_type": "code",
   "execution_count": 17,
   "id": "a948dd65-bddb-44e6-a966-5bf7013ec35a",
   "metadata": {},
   "outputs": [
    {
     "data": {
      "text/html": [
       "<div>\n",
       "<style scoped>\n",
       "    .dataframe tbody tr th:only-of-type {\n",
       "        vertical-align: middle;\n",
       "    }\n",
       "\n",
       "    .dataframe tbody tr th {\n",
       "        vertical-align: top;\n",
       "    }\n",
       "\n",
       "    .dataframe thead th {\n",
       "        text-align: right;\n",
       "    }\n",
       "</style>\n",
       "<table border=\"1\" class=\"dataframe\">\n",
       "  <thead>\n",
       "    <tr style=\"text-align: right;\">\n",
       "      <th></th>\n",
       "      <th>Partner</th>\n",
       "      <th>Agent Id</th>\n",
       "      <th>Update Date</th>\n",
       "      <th>Agency Name</th>\n",
       "      <th>Agency Phone Number</th>\n",
       "      <th>Agency Street Address</th>\n",
       "      <th>Agency Street Address 2</th>\n",
       "      <th>Agency City</th>\n",
       "      <th>Agency State</th>\n",
       "      <th>Agency Postal Code</th>\n",
       "      <th>...</th>\n",
       "      <th>Agent Postal Code</th>\n",
       "      <th>Agent Phone Number</th>\n",
       "      <th>Agent Email Address</th>\n",
       "      <th>Agent National Producer Number</th>\n",
       "      <th>Agent Writing Contract Start Date</th>\n",
       "      <th>Agent Writing Contract Status</th>\n",
       "      <th>Agent License State (active)</th>\n",
       "      <th>Date when an agent became A2O</th>\n",
       "      <th>Title</th>\n",
       "      <th>AARP Auth to Offer Level</th>\n",
       "    </tr>\n",
       "  </thead>\n",
       "  <tbody>\n",
       "    <tr>\n",
       "      <th>0</th>\n",
       "      <td>NYL</td>\n",
       "      <td>866</td>\n",
       "      <td>02/18/2021</td>\n",
       "      <td>NORTHERN CALIFORNIA GO</td>\n",
       "      <td>916.774.6200</td>\n",
       "      <td>2999 DOUGLAS BLVD.</td>\n",
       "      <td>SUITE 350                                     ...</td>\n",
       "      <td>ROSEVILLE</td>\n",
       "      <td>CA</td>\n",
       "      <td>956613839</td>\n",
       "      <td>...</td>\n",
       "      <td>956613839</td>\n",
       "      <td>916.774.6236</td>\n",
       "      <td>stevemorgan@ft.NewYorkLife.com</td>\n",
       "      <td>2065325</td>\n",
       "      <td>06/10/1998</td>\n",
       "      <td>Active</td>\n",
       "      <td>CA,FL,</td>\n",
       "      <td>12/02/2020</td>\n",
       "      <td>AGENT</td>\n",
       "      <td>2</td>\n",
       "    </tr>\n",
       "    <tr>\n",
       "      <th>1</th>\n",
       "      <td>NYL</td>\n",
       "      <td>1049</td>\n",
       "      <td>02/18/2021</td>\n",
       "      <td>EL PASO GO</td>\n",
       "      <td>915.534.3200</td>\n",
       "      <td>MILLS BUILDING</td>\n",
       "      <td>303 N. OREGON STREET           SUITE 1100     ...</td>\n",
       "      <td>EL PASO</td>\n",
       "      <td>TX</td>\n",
       "      <td>79901</td>\n",
       "      <td>...</td>\n",
       "      <td>799011261</td>\n",
       "      <td>915.534.3216</td>\n",
       "      <td>abenitez@ft.NewYorkLife.com</td>\n",
       "      <td>1576906</td>\n",
       "      <td>06/02/1998</td>\n",
       "      <td>Active</td>\n",
       "      <td>NM,TX,KY,VA,CA,AZ,</td>\n",
       "      <td>10/07/2020</td>\n",
       "      <td>AGENT</td>\n",
       "      <td>2</td>\n",
       "    </tr>\n",
       "  </tbody>\n",
       "</table>\n",
       "<p>2 rows × 28 columns</p>\n",
       "</div>"
      ],
      "text/plain": [
       "  Partner  Agent Id Update Date             Agency Name Agency Phone Number  \\\n",
       "0     NYL       866  02/18/2021  NORTHERN CALIFORNIA GO        916.774.6200   \n",
       "1     NYL      1049  02/18/2021              EL PASO GO        915.534.3200   \n",
       "\n",
       "             Agency Street Address  \\\n",
       "0  2999 DOUGLAS BLVD.                \n",
       "1  MILLS BUILDING                    \n",
       "\n",
       "                             Agency Street Address 2  \\\n",
       "0  SUITE 350                                     ...   \n",
       "1  303 N. OREGON STREET           SUITE 1100     ...   \n",
       "\n",
       "                       Agency City Agency State  Agency Postal Code  ...  \\\n",
       "0  ROSEVILLE                                 CA           956613839  ...   \n",
       "1  EL PASO                                   TX               79901  ...   \n",
       "\n",
       "  Agent Postal Code Agent Phone Number             Agent Email Address  \\\n",
       "0         956613839       916.774.6236  stevemorgan@ft.NewYorkLife.com   \n",
       "1         799011261       915.534.3216     abenitez@ft.NewYorkLife.com   \n",
       "\n",
       "  Agent National Producer Number Agent Writing Contract Start Date  \\\n",
       "0                        2065325                        06/10/1998   \n",
       "1                        1576906                        06/02/1998   \n",
       "\n",
       "  Agent Writing Contract Status Agent License State (active)  \\\n",
       "0                        Active                       CA,FL,   \n",
       "1                        Active           NM,TX,KY,VA,CA,AZ,   \n",
       "\n",
       "  Date when an agent became A2O   Title AARP Auth to Offer Level  \n",
       "0                    12/02/2020  AGENT                         2  \n",
       "1                    10/07/2020  AGENT                         2  \n",
       "\n",
       "[2 rows x 28 columns]"
      ]
     },
     "execution_count": 17,
     "metadata": {},
     "output_type": "execute_result"
    }
   ],
   "source": [
    "# Not very much of a test but hey at least its been written\n",
    "df_curr.head(2)"
   ]
  },
  {
   "cell_type": "code",
   "execution_count": null,
   "id": "f0e35abb-df95-4397-8001-bf7c00856957",
   "metadata": {},
   "outputs": [],
   "source": []
  }
 ],
 "metadata": {
  "kernelspec": {
   "display_name": "Python 3",
   "language": "python",
   "name": "python3"
  },
  "language_info": {
   "codemirror_mode": {
    "name": "ipython",
    "version": 3
   },
   "file_extension": ".py",
   "mimetype": "text/x-python",
   "name": "python",
   "nbconvert_exporter": "python",
   "pygments_lexer": "ipython3",
   "version": "3.8.8"
  }
 },
 "nbformat": 4,
 "nbformat_minor": 5
}
